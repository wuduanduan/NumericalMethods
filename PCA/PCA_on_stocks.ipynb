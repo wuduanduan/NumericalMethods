{
 "cells": [
  {
   "cell_type": "code",
   "execution_count": null,
   "metadata": {},
   "outputs": [],
   "source": [
    "# This can be run in google colab if stockquotes cannot be imported locally.\n",
    "#!pip install stockquotes"
   ]
  },
  {
   "cell_type": "code",
   "execution_count": 2,
   "metadata": {
    "id": "WYNqHrPZvJVF"
   },
   "outputs": [],
   "source": [
    "import stockquotes"
   ]
  },
  {
   "cell_type": "code",
   "execution_count": 3,
   "metadata": {
    "id": "rU4xML76GwoW"
   },
   "outputs": [],
   "source": [
    "import numpy as np\n",
    "import matplotlib.pyplot as plt\n",
    "\n",
    "import datetime\n",
    "import pandas as pd\n",
    "from sklearn import preprocessing"
   ]
  },
  {
   "cell_type": "code",
   "execution_count": 6,
   "metadata": {
    "id": "zUB4KvU8wYxj"
   },
   "outputs": [],
   "source": [
    "stocks = ['AAPL','MSFT', 'GE','SLB', 'AMZN', 'JPM','WMT','BA', 'KO','AMT']\n",
    "# SLB: Schlumberger limited\n",
    "# KO: Coca Cola\n",
    "# WMT: Walmart\n",
    "# BA: boeing\n",
    "# AMT: american tower corp\n",
    "# JNJ: Johnson & Johnson"
   ]
  },
  {
   "cell_type": "code",
   "execution_count": 7,
   "metadata": {
    "colab": {
     "base_uri": "https://localhost:8080/"
    },
    "id": "EmHHGpJEaUGC",
    "outputId": "ef348eb7-a504-40c2-cb94-a769577cf58a"
   },
   "outputs": [
    {
     "data": {
      "text/plain": [
       "{'adjusted_close': 144.0,\n",
       " 'close': 144.0,\n",
       " 'date': datetime.datetime(2020, 11, 27, 0, 0),\n",
       " 'high': 144.66,\n",
       " 'low': 143.22,\n",
       " 'open': 144.5,\n",
       " 'volume': 3059000}"
      ]
     },
     "execution_count": 7,
     "metadata": {
      "tags": []
     },
     "output_type": "execute_result"
    }
   ],
   "source": [
    "stockquotes.Stock('JNJ').historical[0]"
   ]
  },
  {
   "cell_type": "markdown",
   "metadata": {
    "id": "W5uz5DVEyL0D"
   },
   "source": [
    "## Take a time range of last 3 months"
   ]
  },
  {
   "cell_type": "code",
   "execution_count": 8,
   "metadata": {
    "colab": {
     "base_uri": "https://localhost:8080/"
    },
    "id": "W7ZxD25byOyv",
    "outputId": "4b8542af-8167-484b-f4ff-3c4f47517f29"
   },
   "outputs": [
    {
     "data": {
      "text/plain": [
       "(datetime.datetime(2020, 9, 6, 19, 10, 55, 394377),\n",
       " datetime.datetime(2020, 11, 29, 19, 10, 55, 394377))"
      ]
     },
     "execution_count": 8,
     "metadata": {
      "tags": []
     },
     "output_type": "execute_result"
    }
   ],
   "source": [
    "\n",
    "end_date = datetime.datetime.today()\n",
    "start_date = end_date - datetime.timedelta(3*28)\n",
    "start_date, end_date"
   ]
  },
  {
   "cell_type": "markdown",
   "metadata": {
    "id": "pOHfrnSJyun7"
   },
   "source": [
    "## Extract date from stockquotes in a table\n",
    "- Keep n row, where one row $(x_i^1, ..., x_i^p)$ = individual i = trading day\n",
    "- Keep p column, where one column $(x_1^j, ..., x_n^j)$ = variable j = return of stock j.\n",
    "In this case, n = trading days between the time range, and j = 8 stocks has been choosed."
   ]
  },
  {
   "cell_type": "code",
   "execution_count": 9,
   "metadata": {
    "id": "Pz5z88fcvbYA"
   },
   "outputs": [],
   "source": [
    "histo = stockquotes.Stock(\"AAPL\").historical\n",
    "# keep ajusted close price\n",
    "histo = pd.DataFrame.from_dict(histo)[['date','adjusted_close']].rename(columns = {'adjusted_close':'AAPL'})\n",
    "\n"
   ]
  },
  {
   "cell_type": "code",
   "execution_count": 10,
   "metadata": {
    "id": "mZEf3Faev6aO"
   },
   "outputs": [],
   "source": [
    "for stock_name in stocks[1:]:\n",
    "    histo2 = stockquotes.Stock(stock_name).historical\n",
    "    # keep ajusted close price\n",
    "    histo2 = pd.DataFrame.from_dict(histo2)[['date','adjusted_close']].rename(columns = {'adjusted_close':stock_name})\n",
    "    histo = pd.merge(histo, histo2, on = 'date')"
   ]
  },
  {
   "cell_type": "code",
   "execution_count": 11,
   "metadata": {
    "colab": {
     "base_uri": "https://localhost:8080/",
     "height": 414
    },
    "id": "IuQyEjNT1jWW",
    "outputId": "b51b41ed-95ad-4d42-f2cd-d6cb2ac4d66d"
   },
   "outputs": [
    {
     "data": {
      "text/html": [
       "<div>\n",
       "<style scoped>\n",
       "    .dataframe tbody tr th:only-of-type {\n",
       "        vertical-align: middle;\n",
       "    }\n",
       "\n",
       "    .dataframe tbody tr th {\n",
       "        vertical-align: top;\n",
       "    }\n",
       "\n",
       "    .dataframe thead th {\n",
       "        text-align: right;\n",
       "    }\n",
       "</style>\n",
       "<table border=\"1\" class=\"dataframe\">\n",
       "  <thead>\n",
       "    <tr style=\"text-align: right;\">\n",
       "      <th></th>\n",
       "      <th>date</th>\n",
       "      <th>AAPL</th>\n",
       "      <th>MSFT</th>\n",
       "      <th>GE</th>\n",
       "      <th>SLB</th>\n",
       "      <th>AMZN</th>\n",
       "      <th>JPM</th>\n",
       "      <th>WMT</th>\n",
       "      <th>BA</th>\n",
       "      <th>KO</th>\n",
       "      <th>AMT</th>\n",
       "    </tr>\n",
       "  </thead>\n",
       "  <tbody>\n",
       "    <tr>\n",
       "      <th>0</th>\n",
       "      <td>2020-11-27</td>\n",
       "      <td>116.59</td>\n",
       "      <td>215.23</td>\n",
       "      <td>10.40</td>\n",
       "      <td>21.88</td>\n",
       "      <td>3195.34</td>\n",
       "      <td>121.22</td>\n",
       "      <td>151.60</td>\n",
       "      <td>216.50</td>\n",
       "      <td>52.70</td>\n",
       "      <td>234.09</td>\n",
       "    </tr>\n",
       "    <tr>\n",
       "      <th>1</th>\n",
       "      <td>2020-11-25</td>\n",
       "      <td>116.03</td>\n",
       "      <td>213.87</td>\n",
       "      <td>10.50</td>\n",
       "      <td>22.10</td>\n",
       "      <td>3185.07</td>\n",
       "      <td>122.03</td>\n",
       "      <td>151.83</td>\n",
       "      <td>217.61</td>\n",
       "      <td>52.93</td>\n",
       "      <td>233.00</td>\n",
       "    </tr>\n",
       "    <tr>\n",
       "      <th>2</th>\n",
       "      <td>2020-11-24</td>\n",
       "      <td>115.17</td>\n",
       "      <td>213.86</td>\n",
       "      <td>10.45</td>\n",
       "      <td>22.23</td>\n",
       "      <td>3118.06</td>\n",
       "      <td>123.32</td>\n",
       "      <td>151.36</td>\n",
       "      <td>218.49</td>\n",
       "      <td>53.22</td>\n",
       "      <td>228.06</td>\n",
       "    </tr>\n",
       "    <tr>\n",
       "      <th>3</th>\n",
       "      <td>2020-11-23</td>\n",
       "      <td>113.85</td>\n",
       "      <td>210.11</td>\n",
       "      <td>10.07</td>\n",
       "      <td>21.61</td>\n",
       "      <td>3098.39</td>\n",
       "      <td>117.87</td>\n",
       "      <td>150.93</td>\n",
       "      <td>211.53</td>\n",
       "      <td>52.68</td>\n",
       "      <td>228.91</td>\n",
       "    </tr>\n",
       "    <tr>\n",
       "      <th>4</th>\n",
       "      <td>2020-11-20</td>\n",
       "      <td>117.34</td>\n",
       "      <td>210.39</td>\n",
       "      <td>9.76</td>\n",
       "      <td>20.21</td>\n",
       "      <td>3099.40</td>\n",
       "      <td>114.57</td>\n",
       "      <td>150.24</td>\n",
       "      <td>199.62</td>\n",
       "      <td>52.67</td>\n",
       "      <td>232.66</td>\n",
       "    </tr>\n",
       "    <tr>\n",
       "      <th>...</th>\n",
       "      <td>...</td>\n",
       "      <td>...</td>\n",
       "      <td>...</td>\n",
       "      <td>...</td>\n",
       "      <td>...</td>\n",
       "      <td>...</td>\n",
       "      <td>...</td>\n",
       "      <td>...</td>\n",
       "      <td>...</td>\n",
       "      <td>...</td>\n",
       "      <td>...</td>\n",
       "    </tr>\n",
       "    <tr>\n",
       "      <th>92</th>\n",
       "      <td>2020-07-20</td>\n",
       "      <td>98.01</td>\n",
       "      <td>210.54</td>\n",
       "      <td>6.86</td>\n",
       "      <td>18.32</td>\n",
       "      <td>3196.84</td>\n",
       "      <td>96.41</td>\n",
       "      <td>130.93</td>\n",
       "      <td>174.42</td>\n",
       "      <td>45.75</td>\n",
       "      <td>259.27</td>\n",
       "    </tr>\n",
       "    <tr>\n",
       "      <th>93</th>\n",
       "      <td>2020-07-17</td>\n",
       "      <td>95.99</td>\n",
       "      <td>201.86</td>\n",
       "      <td>7.06</td>\n",
       "      <td>18.50</td>\n",
       "      <td>2961.97</td>\n",
       "      <td>97.26</td>\n",
       "      <td>131.20</td>\n",
       "      <td>175.66</td>\n",
       "      <td>46.44</td>\n",
       "      <td>257.86</td>\n",
       "    </tr>\n",
       "    <tr>\n",
       "      <th>94</th>\n",
       "      <td>2020-07-16</td>\n",
       "      <td>96.18</td>\n",
       "      <td>202.90</td>\n",
       "      <td>7.04</td>\n",
       "      <td>18.70</td>\n",
       "      <td>2999.90</td>\n",
       "      <td>99.09</td>\n",
       "      <td>131.66</td>\n",
       "      <td>178.70</td>\n",
       "      <td>45.78</td>\n",
       "      <td>256.24</td>\n",
       "    </tr>\n",
       "    <tr>\n",
       "      <th>95</th>\n",
       "      <td>2020-07-15</td>\n",
       "      <td>97.38</td>\n",
       "      <td>207.00</td>\n",
       "      <td>7.13</td>\n",
       "      <td>18.78</td>\n",
       "      <td>3008.87</td>\n",
       "      <td>98.81</td>\n",
       "      <td>131.46</td>\n",
       "      <td>187.94</td>\n",
       "      <td>46.03</td>\n",
       "      <td>256.03</td>\n",
       "    </tr>\n",
       "    <tr>\n",
       "      <th>96</th>\n",
       "      <td>2020-07-14</td>\n",
       "      <td>96.72</td>\n",
       "      <td>207.30</td>\n",
       "      <td>6.87</td>\n",
       "      <td>18.27</td>\n",
       "      <td>3084.00</td>\n",
       "      <td>97.31</td>\n",
       "      <td>131.47</td>\n",
       "      <td>179.96</td>\n",
       "      <td>45.50</td>\n",
       "      <td>257.69</td>\n",
       "    </tr>\n",
       "  </tbody>\n",
       "</table>\n",
       "<p>97 rows × 11 columns</p>\n",
       "</div>"
      ],
      "text/plain": [
       "         date    AAPL    MSFT     GE  ...     WMT      BA     KO     AMT\n",
       "0  2020-11-27  116.59  215.23  10.40  ...  151.60  216.50  52.70  234.09\n",
       "1  2020-11-25  116.03  213.87  10.50  ...  151.83  217.61  52.93  233.00\n",
       "2  2020-11-24  115.17  213.86  10.45  ...  151.36  218.49  53.22  228.06\n",
       "3  2020-11-23  113.85  210.11  10.07  ...  150.93  211.53  52.68  228.91\n",
       "4  2020-11-20  117.34  210.39   9.76  ...  150.24  199.62  52.67  232.66\n",
       "..        ...     ...     ...    ...  ...     ...     ...    ...     ...\n",
       "92 2020-07-20   98.01  210.54   6.86  ...  130.93  174.42  45.75  259.27\n",
       "93 2020-07-17   95.99  201.86   7.06  ...  131.20  175.66  46.44  257.86\n",
       "94 2020-07-16   96.18  202.90   7.04  ...  131.66  178.70  45.78  256.24\n",
       "95 2020-07-15   97.38  207.00   7.13  ...  131.46  187.94  46.03  256.03\n",
       "96 2020-07-14   96.72  207.30   6.87  ...  131.47  179.96  45.50  257.69\n",
       "\n",
       "[97 rows x 11 columns]"
      ]
     },
     "execution_count": 11,
     "metadata": {
      "tags": []
     },
     "output_type": "execute_result"
    }
   ],
   "source": [
    "histo\n"
   ]
  },
  {
   "cell_type": "markdown",
   "metadata": {
    "id": "9F2x96M83kyE"
   },
   "source": [
    "## Calculate daily return by using pct_change"
   ]
  },
  {
   "cell_type": "code",
   "execution_count": 13,
   "metadata": {
    "id": "_ZhZt6qt4xoD"
   },
   "outputs": [],
   "source": [
    "df = histo.copy()\n",
    "df.set_index('date', inplace=True)\n",
    "df = df.pct_change()\n",
    "df = df.dropna()"
   ]
  },
  {
   "cell_type": "code",
   "execution_count": 14,
   "metadata": {
    "colab": {
     "base_uri": "https://localhost:8080/",
     "height": 231
    },
    "id": "kOlVbuds77I-",
    "outputId": "b73b7cbc-dac1-49b4-a228-aaa070c3e350"
   },
   "outputs": [
    {
     "data": {
      "text/html": [
       "<div>\n",
       "<style scoped>\n",
       "    .dataframe tbody tr th:only-of-type {\n",
       "        vertical-align: middle;\n",
       "    }\n",
       "\n",
       "    .dataframe tbody tr th {\n",
       "        vertical-align: top;\n",
       "    }\n",
       "\n",
       "    .dataframe thead th {\n",
       "        text-align: right;\n",
       "    }\n",
       "</style>\n",
       "<table border=\"1\" class=\"dataframe\">\n",
       "  <thead>\n",
       "    <tr style=\"text-align: right;\">\n",
       "      <th></th>\n",
       "      <th>AAPL</th>\n",
       "      <th>MSFT</th>\n",
       "      <th>GE</th>\n",
       "      <th>SLB</th>\n",
       "      <th>AMZN</th>\n",
       "      <th>JPM</th>\n",
       "      <th>WMT</th>\n",
       "      <th>BA</th>\n",
       "      <th>KO</th>\n",
       "      <th>AMT</th>\n",
       "    </tr>\n",
       "    <tr>\n",
       "      <th>date</th>\n",
       "      <th></th>\n",
       "      <th></th>\n",
       "      <th></th>\n",
       "      <th></th>\n",
       "      <th></th>\n",
       "      <th></th>\n",
       "      <th></th>\n",
       "      <th></th>\n",
       "      <th></th>\n",
       "      <th></th>\n",
       "    </tr>\n",
       "  </thead>\n",
       "  <tbody>\n",
       "    <tr>\n",
       "      <th>2020-11-25</th>\n",
       "      <td>-0.004803</td>\n",
       "      <td>-0.006319</td>\n",
       "      <td>0.009615</td>\n",
       "      <td>0.010055</td>\n",
       "      <td>-0.003214</td>\n",
       "      <td>0.006682</td>\n",
       "      <td>0.001517</td>\n",
       "      <td>0.005127</td>\n",
       "      <td>0.004364</td>\n",
       "      <td>-0.004656</td>\n",
       "    </tr>\n",
       "    <tr>\n",
       "      <th>2020-11-24</th>\n",
       "      <td>-0.007412</td>\n",
       "      <td>-0.000047</td>\n",
       "      <td>-0.004762</td>\n",
       "      <td>0.005882</td>\n",
       "      <td>-0.021039</td>\n",
       "      <td>0.010571</td>\n",
       "      <td>-0.003096</td>\n",
       "      <td>0.004044</td>\n",
       "      <td>0.005479</td>\n",
       "      <td>-0.021202</td>\n",
       "    </tr>\n",
       "    <tr>\n",
       "      <th>2020-11-23</th>\n",
       "      <td>-0.011461</td>\n",
       "      <td>-0.017535</td>\n",
       "      <td>-0.036364</td>\n",
       "      <td>-0.027890</td>\n",
       "      <td>-0.006308</td>\n",
       "      <td>-0.044194</td>\n",
       "      <td>-0.002841</td>\n",
       "      <td>-0.031855</td>\n",
       "      <td>-0.010147</td>\n",
       "      <td>0.003727</td>\n",
       "    </tr>\n",
       "    <tr>\n",
       "      <th>2020-11-20</th>\n",
       "      <td>0.030654</td>\n",
       "      <td>0.001333</td>\n",
       "      <td>-0.030785</td>\n",
       "      <td>-0.064785</td>\n",
       "      <td>0.000326</td>\n",
       "      <td>-0.027997</td>\n",
       "      <td>-0.004572</td>\n",
       "      <td>-0.056304</td>\n",
       "      <td>-0.000190</td>\n",
       "      <td>0.016382</td>\n",
       "    </tr>\n",
       "    <tr>\n",
       "      <th>2020-11-19</th>\n",
       "      <td>0.011079</td>\n",
       "      <td>0.009649</td>\n",
       "      <td>-0.010246</td>\n",
       "      <td>0.012370</td>\n",
       "      <td>0.005685</td>\n",
       "      <td>0.008641</td>\n",
       "      <td>0.012513</td>\n",
       "      <td>0.030308</td>\n",
       "      <td>0.008734</td>\n",
       "      <td>0.024800</td>\n",
       "    </tr>\n",
       "  </tbody>\n",
       "</table>\n",
       "</div>"
      ],
      "text/plain": [
       "                AAPL      MSFT        GE  ...        BA        KO       AMT\n",
       "date                                      ...                              \n",
       "2020-11-25 -0.004803 -0.006319  0.009615  ...  0.005127  0.004364 -0.004656\n",
       "2020-11-24 -0.007412 -0.000047 -0.004762  ...  0.004044  0.005479 -0.021202\n",
       "2020-11-23 -0.011461 -0.017535 -0.036364  ... -0.031855 -0.010147  0.003727\n",
       "2020-11-20  0.030654  0.001333 -0.030785  ... -0.056304 -0.000190  0.016382\n",
       "2020-11-19  0.011079  0.009649 -0.010246  ...  0.030308  0.008734  0.024800\n",
       "\n",
       "[5 rows x 10 columns]"
      ]
     },
     "execution_count": 14,
     "metadata": {
      "tags": []
     },
     "output_type": "execute_result"
    }
   ],
   "source": [
    "\n",
    "df.head()"
   ]
  },
  {
   "cell_type": "markdown",
   "metadata": {
    "id": "WhPzffkE8JXL"
   },
   "source": [
    "## Standard normalization of stock return"
   ]
  },
  {
   "cell_type": "code",
   "execution_count": 15,
   "metadata": {
    "id": "VeZxzpeZ4rrl"
   },
   "outputs": [],
   "source": [
    "StandardScaler = preprocessing.StandardScaler()\n",
    "for stock_name in stocks:\n",
    "    df[stock_name] = StandardScaler.fit_transform(df[[stock_name]])"
   ]
  },
  {
   "cell_type": "code",
   "execution_count": 16,
   "metadata": {
    "colab": {
     "base_uri": "https://localhost:8080/",
     "height": 231
    },
    "id": "HEdsZK5V7Smz",
    "outputId": "392d2bc8-68bb-4b84-95f6-23d8f9873c43"
   },
   "outputs": [
    {
     "data": {
      "text/html": [
       "<div>\n",
       "<style scoped>\n",
       "    .dataframe tbody tr th:only-of-type {\n",
       "        vertical-align: middle;\n",
       "    }\n",
       "\n",
       "    .dataframe tbody tr th {\n",
       "        vertical-align: top;\n",
       "    }\n",
       "\n",
       "    .dataframe thead th {\n",
       "        text-align: right;\n",
       "    }\n",
       "</style>\n",
       "<table border=\"1\" class=\"dataframe\">\n",
       "  <thead>\n",
       "    <tr style=\"text-align: right;\">\n",
       "      <th></th>\n",
       "      <th>AAPL</th>\n",
       "      <th>MSFT</th>\n",
       "      <th>GE</th>\n",
       "      <th>SLB</th>\n",
       "      <th>AMZN</th>\n",
       "      <th>JPM</th>\n",
       "      <th>WMT</th>\n",
       "      <th>BA</th>\n",
       "      <th>KO</th>\n",
       "      <th>AMT</th>\n",
       "    </tr>\n",
       "    <tr>\n",
       "      <th>date</th>\n",
       "      <th></th>\n",
       "      <th></th>\n",
       "      <th></th>\n",
       "      <th></th>\n",
       "      <th></th>\n",
       "      <th></th>\n",
       "      <th></th>\n",
       "      <th></th>\n",
       "      <th></th>\n",
       "      <th></th>\n",
       "    </tr>\n",
       "  </thead>\n",
       "  <tbody>\n",
       "    <tr>\n",
       "      <th>2020-11-25</th>\n",
       "      <td>-0.118976</td>\n",
       "      <td>-0.292597</td>\n",
       "      <td>0.469863</td>\n",
       "      <td>0.319037</td>\n",
       "      <td>-0.129802</td>\n",
       "      <td>0.414387</td>\n",
       "      <td>0.215923</td>\n",
       "      <td>0.203000</td>\n",
       "      <td>0.413998</td>\n",
       "      <td>-0.379565</td>\n",
       "    </tr>\n",
       "    <tr>\n",
       "      <th>2020-11-24</th>\n",
       "      <td>-0.215180</td>\n",
       "      <td>0.005934</td>\n",
       "      <td>-0.030229</td>\n",
       "      <td>0.201121</td>\n",
       "      <td>-0.867123</td>\n",
       "      <td>0.598800</td>\n",
       "      <td>-0.126521</td>\n",
       "      <td>0.169305</td>\n",
       "      <td>0.493629</td>\n",
       "      <td>-1.467478</td>\n",
       "    </tr>\n",
       "    <tr>\n",
       "      <th>2020-11-23</th>\n",
       "      <td>-0.364516</td>\n",
       "      <td>-0.826446</td>\n",
       "      <td>-1.129448</td>\n",
       "      <td>-0.753299</td>\n",
       "      <td>-0.257800</td>\n",
       "      <td>-1.998041</td>\n",
       "      <td>-0.107615</td>\n",
       "      <td>-0.947508</td>\n",
       "      <td>-0.622713</td>\n",
       "      <td>0.171671</td>\n",
       "    </tr>\n",
       "    <tr>\n",
       "      <th>2020-11-20</th>\n",
       "      <td>1.188628</td>\n",
       "      <td>0.071589</td>\n",
       "      <td>-0.935386</td>\n",
       "      <td>-1.795947</td>\n",
       "      <td>0.016632</td>\n",
       "      <td>-1.230014</td>\n",
       "      <td>-0.236104</td>\n",
       "      <td>-1.708116</td>\n",
       "      <td>0.088632</td>\n",
       "      <td>1.003771</td>\n",
       "    </tr>\n",
       "    <tr>\n",
       "      <th>2020-11-19</th>\n",
       "      <td>0.466724</td>\n",
       "      <td>0.467411</td>\n",
       "      <td>-0.220982</td>\n",
       "      <td>0.384467</td>\n",
       "      <td>0.238308</td>\n",
       "      <td>0.507276</td>\n",
       "      <td>1.032267</td>\n",
       "      <td>0.986365</td>\n",
       "      <td>0.726156</td>\n",
       "      <td>1.557292</td>\n",
       "    </tr>\n",
       "  </tbody>\n",
       "</table>\n",
       "</div>"
      ],
      "text/plain": [
       "                AAPL      MSFT        GE  ...        BA        KO       AMT\n",
       "date                                      ...                              \n",
       "2020-11-25 -0.118976 -0.292597  0.469863  ...  0.203000  0.413998 -0.379565\n",
       "2020-11-24 -0.215180  0.005934 -0.030229  ...  0.169305  0.493629 -1.467478\n",
       "2020-11-23 -0.364516 -0.826446 -1.129448  ... -0.947508 -0.622713  0.171671\n",
       "2020-11-20  1.188628  0.071589 -0.935386  ... -1.708116  0.088632  1.003771\n",
       "2020-11-19  0.466724  0.467411 -0.220982  ...  0.986365  0.726156  1.557292\n",
       "\n",
       "[5 rows x 10 columns]"
      ]
     },
     "execution_count": 16,
     "metadata": {
      "tags": []
     },
     "output_type": "execute_result"
    }
   ],
   "source": [
    "df.head()"
   ]
  },
  {
   "cell_type": "code",
   "execution_count": 17,
   "metadata": {
    "colab": {
     "base_uri": "https://localhost:8080/"
    },
    "id": "jNC8nBhdQz9j",
    "outputId": "50844b2e-9c67-47fe-c32f-aafb670f25cf"
   },
   "outputs": [
    {
     "data": {
      "text/plain": [
       "(96, 10)"
      ]
     },
     "execution_count": 17,
     "metadata": {
      "tags": []
     },
     "output_type": "execute_result"
    }
   ],
   "source": [
    "\n",
    "n = len(df)\n",
    "p = len(stocks)\n",
    "n, p"
   ]
  },
  {
   "cell_type": "markdown",
   "metadata": {
    "id": "wdfq71IZ8ukc"
   },
   "source": [
    "## Apply PCA to dataframe"
   ]
  },
  {
   "cell_type": "code",
   "execution_count": 18,
   "metadata": {
    "id": "L3uhyrCJ8ps3"
   },
   "outputs": [],
   "source": [
    "from sklearn.decomposition import PCA"
   ]
  },
  {
   "cell_type": "code",
   "execution_count": 19,
   "metadata": {
    "id": "2tTeoCao8w_H"
   },
   "outputs": [],
   "source": [
    "pca = PCA(n_components=2)"
   ]
  },
  {
   "cell_type": "code",
   "execution_count": 20,
   "metadata": {
    "colab": {
     "base_uri": "https://localhost:8080/"
    },
    "id": "7yPgNIgs82Aq",
    "outputId": "81f42937-9432-4d2f-d45f-b92a1fe6b896"
   },
   "outputs": [
    {
     "data": {
      "text/plain": [
       "PCA(copy=True, iterated_power='auto', n_components=2, random_state=None,\n",
       "    svd_solver='auto', tol=0.0, whiten=False)"
      ]
     },
     "execution_count": 20,
     "metadata": {
      "tags": []
     },
     "output_type": "execute_result"
    }
   ],
   "source": [
    "pca.fit(df)"
   ]
  },
  {
   "cell_type": "code",
   "execution_count": 21,
   "metadata": {
    "colab": {
     "base_uri": "https://localhost:8080/"
    },
    "id": "CX0RJPF684Lu",
    "outputId": "a24d28fd-3a44-4bf9-e4c6-1e52697b8c67"
   },
   "outputs": [
    {
     "data": {
      "text/plain": [
       "array([[-0.20311372, -0.24829306, -0.34143193, -0.37069607, -0.15051239,\n",
       "        -0.40464231, -0.22649685, -0.44493972, -0.4196621 , -0.17699209],\n",
       "       [ 0.43453281,  0.43486205, -0.27140249, -0.24018067,  0.48335152,\n",
       "        -0.23962151,  0.26817256, -0.15481074, -0.08822604,  0.30986494]])"
      ]
     },
     "execution_count": 21,
     "metadata": {
      "tags": []
     },
     "output_type": "execute_result"
    }
   ],
   "source": [
    "pca.components_ "
   ]
  },
  {
   "cell_type": "code",
   "execution_count": 22,
   "metadata": {
    "id": "Y9S8Ncz1863k"
   },
   "outputs": [],
   "source": [
    "covariance = pca.get_covariance()"
   ]
  },
  {
   "cell_type": "code",
   "execution_count": 23,
   "metadata": {
    "colab": {
     "base_uri": "https://localhost:8080/"
    },
    "id": "rZ-0sNUwGQf_",
    "outputId": "0fc3430f-7b30-4ec6-c7fd-c25c5d75ab68"
   },
   "outputs": [
    {
     "name": "stdout",
     "output_type": "stream",
     "text": [
      "eigenvalues =  [0.42613958+0.00000000e+00j 3.09201522+0.00000000e+00j\n",
      " 3.60413131+0.00000000e+00j 0.42613958+7.85046229e-17j\n",
      " 0.42613958-7.85046229e-17j 0.42613958+0.00000000e+00j\n",
      " 0.42613958+0.00000000e+00j 0.42613958+0.00000000e+00j\n",
      " 0.42613958+0.00000000e+00j 0.42613958+0.00000000e+00j]\n",
      "eigenvectors = [[-0.8774543 +0.j          0.43453281+0.j          0.20311372+0.j\n",
      "   0.0907546 +0.02251011j  0.0907546 -0.02251011j  0.24638642+0.j\n",
      "   0.10237384+0.j          0.00769352+0.j          0.02297238+0.j\n",
      "  -0.08430295+0.j        ]\n",
      " [ 0.27282738+0.j          0.43486205+0.j          0.24829306+0.j\n",
      "   0.54516592+0.j          0.54516592-0.j          0.30177603+0.j\n",
      "   0.32007455+0.j          0.30775429+0.j          0.21309525+0.j\n",
      "  -0.31658817+0.j        ]\n",
      " [-0.05536901+0.j         -0.27140249+0.j          0.34143193+0.j\n",
      "   0.05818188-0.17911523j  0.05818188+0.17911523j  0.25004919+0.j\n",
      "   0.0453288 +0.j          0.3369207 +0.j         -0.28718312+0.j\n",
      "   0.10880547+0.j        ]\n",
      " [-0.03313326+0.j         -0.24018067+0.j          0.37069607+0.j\n",
      "   0.05868366+0.08144974j  0.05868366-0.08144974j -0.50708892+0.j\n",
      "   0.21135247+0.j          0.14066586+0.j         -0.32117509+0.j\n",
      "  -0.28139027+0.j        ]\n",
      " [ 0.274206  +0.j          0.48335152+0.j          0.15051239+0.j\n",
      "  -0.22784008-0.0689009j  -0.22784008+0.0689009j  -0.12684627+0.j\n",
      "   0.28853624+0.j         -0.05142242+0.j         -0.29848452+0.j\n",
      "  -0.19837201+0.j        ]\n",
      " [-0.02499846+0.j         -0.23962151+0.j          0.40464231+0.j\n",
      "   0.08439158-0.25917529j  0.08439158+0.25917529j -0.15252582+0.j\n",
      "  -0.22931308+0.j         -0.15975499+0.j          0.73811528+0.j\n",
      "   0.23445755+0.j        ]\n",
      " [ 0.18523403+0.j          0.26817256+0.j          0.22649685+0.j\n",
      "  -0.39136881-0.25631417j -0.39136881+0.25631417j -0.09211516+0.j\n",
      "  -0.78329012+0.j          0.06037792+0.j          0.26345226+0.j\n",
      "   0.06596105+0.j        ]\n",
      " [ 0.02632959+0.j         -0.15481074+0.j          0.44493972+0.j\n",
      "  -0.31008891+0.35339903j -0.31008891-0.35339903j  0.36623562+0.j\n",
      "   0.07384734+0.j          0.36521603+0.j         -0.12783876+0.j\n",
      "  -0.26047179+0.j        ]\n",
      " [ 0.05345238+0.j         -0.08822604+0.j          0.4196621 +0.j\n",
      "   0.13877312+0.022479j    0.13877312-0.022479j    0.04813244+0.j\n",
      "   0.11328628+0.j         -0.76054815+0.j         -0.17351453+0.j\n",
      "   0.14314091+0.j        ]\n",
      " [ 0.19442153+0.j          0.30986494+0.j          0.17699209+0.j\n",
      "  -0.15193995+0.18652629j -0.15193995-0.18652629j -0.58675091+0.j\n",
      "  -0.26959049+0.j         -0.16822013+0.j         -0.13664109+0.j\n",
      "   0.78398871+0.j        ]]\n"
     ]
    }
   ],
   "source": [
    "lambdas, eigenvectors = np.linalg.eig(covariance)\n",
    "print('eigenvalues = ', lambdas)\n",
    "print('eigenvectors =', eigenvectors)"
   ]
  },
  {
   "cell_type": "markdown",
   "metadata": {
    "id": "h9nWFPJOIGWR"
   },
   "source": [
    "* Remark that np.linalg.eig return eigenvectors asof columns\n",
    "* We can use pca.components_, which corresponds to correct eigenvectors of first greatest eigenvalues."
   ]
  },
  {
   "cell_type": "markdown",
   "metadata": {
    "id": "EYhoCgLxIoYx"
   },
   "source": [
    "## Plot the projected component to the chosen 2 dimension space"
   ]
  },
  {
   "cell_type": "code",
   "execution_count": 24,
   "metadata": {
    "id": "Gv_ZERhGGVB1"
   },
   "outputs": [],
   "source": [
    "# eigv from pca can be of *-1\n",
    "# eigv1 = pca.components_[0]\n",
    "# eigv2 = pca.components_[1]\n",
    "\n",
    "# the sklearn pca may give eigenveteur with undesired sign. So just use np.linalg to get eigenvectors\n",
    "\n",
    "lambda1 = sorted(lambdas)[-1]\n",
    "lambda2 = sorted(lambdas)[-2]\n",
    "eigv1 = eigenvectors[:,list(lambdas).index(lambda1)]\n",
    "eigv2 = eigenvectors[:,list(lambdas).index(lambda2)]\n",
    "\n",
    "axe1 = []; axe2 = []\n",
    "for i in range(len(df)):\n",
    "    axe1.append( df.iloc[i] @ eigv1)\n",
    "    axe2.append( df.iloc[i] @ eigv2)"
   ]
  },
  {
   "cell_type": "code",
   "execution_count": 25,
   "metadata": {
    "colab": {
     "base_uri": "https://localhost:8080/",
     "height": 535
    },
    "id": "v3-M62WbJDoV",
    "outputId": "2ba83b47-c887-4273-fa93-994b5b996f34"
   },
   "outputs": [
    {
     "name": "stderr",
     "output_type": "stream",
     "text": [
      "/usr/local/lib/python3.6/dist-packages/numpy/core/_asarray.py:138: ComplexWarning: Casting complex values to real discards the imaginary part\n",
      "  return array(a, dtype, copy=False, order=order, subok=True)\n"
     ]
    },
    {
     "data": {
      "image/png": "[encoded data removed]",
      "text/plain": [
       "<Figure size 800x560 with 1 Axes>"
      ]
     },
     "metadata": {
      "needs_background": "light",
      "tags": []
     },
     "output_type": "display_data"
    }
   ],
   "source": [
    "plt.figure(figsize = (10,7),dpi = 80)\n",
    "plt.scatter(axe1, axe2, alpha=0.6)\n",
    "plt.vlines(0, -7,7, linestyles='dashed', alpha = 0.4)\n",
    "plt.hlines(0, -7,7, linestyles='dashed', alpha = 0.4)\n",
    "plt.title('Scatter of daily return in axe1 and 2')\n",
    "plt.xlabel('axe1')\n",
    "plt.ylabel('axe2')\n",
    "plt.show()"
   ]
  },
  {
   "cell_type": "markdown",
   "metadata": {
    "id": "iOK3W5hAQaU-"
   },
   "source": [
    "## Visualize correlation between p variables"
   ]
  },
  {
   "cell_type": "markdown",
   "metadata": {
    "id": "D194F6t4Ql9a"
   },
   "source": [
    "$$r_{i,1} = v_i^1 \\sqrt{\\lambda_1}, \\quad r_{i,2} = v_i^2 \\sqrt{\\lambda_2}$$\n",
    "\n",
    "With $\\textbf{v}_i, \\textbf{v}_j$ normalized vectors, the $p$ points $(r_{i,1}, r_{i,2})$ find themself inside an unit circle. And the angle between each two points shows whether they are positively or negatively correlated. "
   ]
  },
  {
   "cell_type": "code",
   "execution_count": 26,
   "metadata": {
    "colab": {
     "base_uri": "https://localhost:8080/"
    },
    "id": "ewCzD2ceWdzf",
    "outputId": "aca8584d-3ff9-44c4-c1ff-e1714f3fbfb1"
   },
   "outputs": [
    {
     "data": {
      "text/plain": [
       "array([3.60413131, 3.09201522])"
      ]
     },
     "execution_count": 26,
     "metadata": {
      "tags": []
     },
     "output_type": "execute_result"
    }
   ],
   "source": [
    "\n",
    "pca.explained_variance_"
   ]
  },
  {
   "cell_type": "code",
   "execution_count": 27,
   "metadata": {
    "colab": {
     "base_uri": "https://localhost:8080/"
    },
    "id": "cjulUzUAKYwU",
    "outputId": "7a3c2282-7619-4566-f7d3-f60faa3d9581"
   },
   "outputs": [
    {
     "name": "stderr",
     "output_type": "stream",
     "text": [
      "/usr/local/lib/python3.6/dist-packages/ipykernel_launcher.py:6: ComplexWarning: Casting complex values to real discards the imaginary part\n",
      "  \n",
      "/usr/local/lib/python3.6/dist-packages/ipykernel_launcher.py:7: ComplexWarning: Casting complex values to real discards the imaginary part\n",
      "  import sys\n"
     ]
    }
   ],
   "source": [
    "r1 = np.zeros(p)\n",
    "r2 = np.zeros(p)\n",
    "lmd1 = pca.explained_variance_[0]\n",
    "lmd2 = pca.explained_variance_[1]\n",
    "for i in range(p):\n",
    "    r1[i] = eigv1[i]*np.sqrt(lmd1)\n",
    "    r2[i] = eigv2[i]*np.sqrt(lmd2)"
   ]
  },
  {
   "cell_type": "code",
   "execution_count": 30,
   "metadata": {
    "id": "cfWteQz7bB33"
   },
   "outputs": [],
   "source": [
    "\n",
    "stock_fullnames = ['Apple', 'Microsoft', 'General Electric', 'Schlumberger', 'Amazon', 'J.P.Morgan', 'Walmart', 'Boeing', 'Coca Cola', 'American Tower Corp']"
   ]
  },
  {
   "cell_type": "markdown",
   "metadata": {},
   "source": [
    "## Visualize stock's correlation in the subpace's plan"
   ]
  },
  {
   "cell_type": "code",
   "execution_count": 32,
   "metadata": {
    "colab": {
     "base_uri": "https://localhost:8080/",
     "height": 591
    },
    "id": "2M34RlaoRAns",
    "outputId": "3c24d246-d779-486c-b2ec-45e260e8eda5"
   },
   "outputs": [
    {
     "data": {
      "image/png": "[encoded data removed]",
      "text/plain": [
       "<Figure size 900x720 with 1 Axes>"
      ]
     },
     "metadata": {
      "needs_background": "light",
      "tags": []
     },
     "output_type": "display_data"
    }
   ],
   "source": [
    "\n",
    "theta = np.linspace(0, 2*np.pi, 100)\n",
    "\n",
    "r = np.sqrt(1.0)\n",
    "\n",
    "x1 = r*np.cos(theta)\n",
    "x2 = r*np.sin(theta)\n",
    "\n",
    "fig, ax = plt.subplots(figsize=(10, 8), dpi = 90)\n",
    "\n",
    "ax.plot(x1, x2, 'gray')\n",
    "ax.set_aspect(1)\n",
    "\n",
    "plt.xlim(-1.25,2)\n",
    "plt.ylim(-1.25,1.25)\n",
    "\n",
    "plt.grid(linestyle='--')\n",
    "\n",
    "for i in range(p):\n",
    "    plt.plot([0 ,r1[i]], [0, r2[i]], '--*', label = stock_fullnames[i] )\n",
    "plt.legend()\n",
    "\n",
    "plt.show()"
   ]
  }
 ],
 "metadata": {
  "colab": {
   "name": "PCA on stocks.ipynb",
   "provenance": []
  },
  "kernelspec": {
   "display_name": "Python 3",
   "language": "python",
   "name": "python3"
  },
  "language_info": {
   "codemirror_mode": {
    "name": "ipython",
    "version": 3
   },
   "file_extension": ".py",
   "mimetype": "text/x-python",
   "name": "python",
   "nbconvert_exporter": "python",
   "pygments_lexer": "ipython3",
   "version": "3.7.0"
  },
  "toc": {
   "base_numbering": 1,
   "nav_menu": {},
   "number_sections": true,
   "sideBar": true,
   "skip_h1_title": false,
   "title_cell": "Table of Contents",
   "title_sidebar": "Contents",
   "toc_cell": false,
   "toc_position": {},
   "toc_section_display": true,
   "toc_window_display": false
  }
 },
 "nbformat": 4,
 "nbformat_minor": 1
}
