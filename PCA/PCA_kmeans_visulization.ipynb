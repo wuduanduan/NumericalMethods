{
 "cells": [
  {
   "cell_type": "code",
   "execution_count": 1,
   "metadata": {},
   "outputs": [],
   "source": [
    "import pandas as pd\n",
    "import numpy as np\n",
    "import matplotlib.pyplot as plt"
   ]
  },
  {
   "cell_type": "code",
   "execution_count": 2,
   "metadata": {},
   "outputs": [],
   "source": [
    "import csv"
   ]
  },
  {
   "cell_type": "markdown",
   "metadata": {},
   "source": [
    "## Introduction"
   ]
  },
  {
   "cell_type": "markdown",
   "metadata": {},
   "source": [
    "We have $n = 99$ tennis players, each with $p = 6$ statistiques for each of them. Since it's hard to see a 6-dim space, we want to find the best represent of the data in $\\mathbb{R}^2$, where the best representation means maintan the relative inforamtion between each points as mush as possible. \n",
    "\n",
    "This lead us to a <b>Principle Component Analyse</b> from this data. We implement this method and do visulization in 2D."
   ]
  },
  {
   "cell_type": "code",
   "execution_count": 3,
   "metadata": {},
   "outputs": [],
   "source": [
    "def extractioncsv(fichiercsv):\n",
    "    liste = []\n",
    "    with open(fichiercsv, encoding = 'utf8') as fcsv:\n",
    "        lecteur = csv.reader(fcsv, delimiter = ';')\n",
    "        for ligne in lecteur:\n",
    "            liste.append(ligne)\n",
    "    return liste"
   ]
  },
  {
   "cell_type": "code",
   "execution_count": 4,
   "metadata": {},
   "outputs": [],
   "source": [
    "TennisChiffre = extractioncsv(\"TennisChiffresTop100_2018.csv\")"
   ]
  },
  {
   "cell_type": "code",
   "execution_count": 5,
   "metadata": {},
   "outputs": [
    {
     "data": {
      "text/plain": [
       "100"
      ]
     },
     "execution_count": 5,
     "metadata": {},
     "output_type": "execute_result"
    }
   ],
   "source": [
    "len(TennisChiffre)"
   ]
  },
  {
   "cell_type": "code",
   "execution_count": 6,
   "metadata": {},
   "outputs": [],
   "source": [
    "TennisChiffre = pd.read_csv(\"TennisChiffresTop100_2018.csv\", sep = ';')"
   ]
  },
  {
   "cell_type": "code",
   "execution_count": 7,
   "metadata": {},
   "outputs": [
    {
     "data": {
      "text/html": [
       "<div>\n",
       "<style scoped>\n",
       "    .dataframe tbody tr th:only-of-type {\n",
       "        vertical-align: middle;\n",
       "    }\n",
       "\n",
       "    .dataframe tbody tr th {\n",
       "        vertical-align: top;\n",
       "    }\n",
       "\n",
       "    .dataframe thead th {\n",
       "        text-align: right;\n",
       "    }\n",
       "</style>\n",
       "<table border=\"1\" class=\"dataframe\">\n",
       "  <thead>\n",
       "    <tr style=\"text-align: right;\">\n",
       "      <th></th>\n",
       "      <th>Unnamed: 0</th>\n",
       "      <th>Moyenne 1 er service</th>\n",
       "      <th>Pourcent 1 er service</th>\n",
       "      <th>Balles break sauvees</th>\n",
       "      <th>Balles break gagnees</th>\n",
       "      <th>Pts gagnes 1 er service</th>\n",
       "      <th>Pts gagnes au retour</th>\n",
       "    </tr>\n",
       "  </thead>\n",
       "  <tbody>\n",
       "    <tr>\n",
       "      <th>0</th>\n",
       "      <td>Bautista</td>\n",
       "      <td>179</td>\n",
       "      <td>81</td>\n",
       "      <td>84</td>\n",
       "      <td>26</td>\n",
       "      <td>78</td>\n",
       "      <td>63</td>\n",
       "    </tr>\n",
       "    <tr>\n",
       "      <th>1</th>\n",
       "      <td>Berdych</td>\n",
       "      <td>189</td>\n",
       "      <td>68</td>\n",
       "      <td>85</td>\n",
       "      <td>26</td>\n",
       "      <td>82</td>\n",
       "      <td>63</td>\n",
       "    </tr>\n",
       "    <tr>\n",
       "      <th>2</th>\n",
       "      <td>Cilic</td>\n",
       "      <td>191</td>\n",
       "      <td>70</td>\n",
       "      <td>82</td>\n",
       "      <td>25</td>\n",
       "      <td>86</td>\n",
       "      <td>60</td>\n",
       "    </tr>\n",
       "    <tr>\n",
       "      <th>3</th>\n",
       "      <td>Del Potro</td>\n",
       "      <td>196</td>\n",
       "      <td>78</td>\n",
       "      <td>88</td>\n",
       "      <td>26</td>\n",
       "      <td>90</td>\n",
       "      <td>58</td>\n",
       "    </tr>\n",
       "    <tr>\n",
       "      <th>4</th>\n",
       "      <td>Dimitrov</td>\n",
       "      <td>195</td>\n",
       "      <td>64</td>\n",
       "      <td>94</td>\n",
       "      <td>19</td>\n",
       "      <td>81</td>\n",
       "      <td>53</td>\n",
       "    </tr>\n",
       "  </tbody>\n",
       "</table>\n",
       "</div>"
      ],
      "text/plain": [
       "  Unnamed: 0  Moyenne 1 er service  Pourcent 1 er service  \\\n",
       "0   Bautista                   179                     81   \n",
       "1    Berdych                   189                     68   \n",
       "2      Cilic                   191                     70   \n",
       "3  Del Potro                   196                     78   \n",
       "4   Dimitrov                   195                     64   \n",
       "\n",
       "   Balles break sauvees  Balles break gagnees  Pts gagnes 1 er service  \\\n",
       "0                    84                    26                       78   \n",
       "1                    85                    26                       82   \n",
       "2                    82                    25                       86   \n",
       "3                    88                    26                       90   \n",
       "4                    94                    19                       81   \n",
       "\n",
       "   Pts gagnes au retour  \n",
       "0                    63  \n",
       "1                    63  \n",
       "2                    60  \n",
       "3                    58  \n",
       "4                    53  "
      ]
     },
     "execution_count": 7,
     "metadata": {},
     "output_type": "execute_result"
    }
   ],
   "source": [
    "TennisChiffre.head(5)"
   ]
  },
  {
   "cell_type": "code",
   "execution_count": 8,
   "metadata": {},
   "outputs": [
    {
     "data": {
      "text/plain": [
       "Index(['Unnamed: 0', 'Moyenne 1 er service', 'Pourcent 1 er service',\n",
       "       'Balles break sauvees', 'Balles break gagnees',\n",
       "       'Pts gagnes 1 er service', 'Pts gagnes au retour'],\n",
       "      dtype='object')"
      ]
     },
     "execution_count": 8,
     "metadata": {},
     "output_type": "execute_result"
    }
   ],
   "source": [
    "colms = TennisChiffre.columns\n",
    "colms"
   ]
  },
  {
   "cell_type": "code",
   "execution_count": 9,
   "metadata": {},
   "outputs": [
    {
     "data": {
      "text/plain": [
       "(99, 6)"
      ]
     },
     "execution_count": 9,
     "metadata": {},
     "output_type": "execute_result"
    }
   ],
   "source": [
    "TennisChiffre.shape\n",
    "n = TennisChiffre.shape[0]\n",
    "p = TennisChiffre.shape[1] - 1\n",
    "n, p"
   ]
  },
  {
   "cell_type": "markdown",
   "metadata": {},
   "source": [
    "## Principal theory"
   ]
  },
  {
   "cell_type": "markdown",
   "metadata": {},
   "source": [
    "Let $X_{i,j}$ the $j-th$ statistique for player $i$. We will centering and normalize these data:\n",
    "$$\\tilde{X}_{i,j} = \\frac{X_{i,j}-\\text{mean}(X_{\\cdot, j})}{\\text{std}(X_{\\cdot, j})}$$.\n",
    "\n",
    "Then the covariance matrix of X is:\n",
    "\n",
    "$$\\frac{1}{n} \\tilde{X}^T \\tilde{X}$$\n",
    "\n",
    "is a $p\\times p$ matrix. \n",
    "\n",
    "We admet the theorem that the projection maintain maximumly inercie(variance) are the eigen-vector associated to the largest eigen-value. Thus to find an representation in $\\mathbb{R}^2$. We only need to get the first two largest eigen-value and eigen-vector of the covariance matrix mentioned above.\n",
    "\n",
    "Concretely, we use:\n",
    "- numpy.linalg package to calculate eigen-value($\\lambda_1, \\lambda_2$) and eigen-vector($\\textbf{u}^1, \\textbf{u}^2$);\n",
    "- Trace the n points in $\\mathbb{R}^2$ by $(a_i, b_i) := (<X_{i,\\cdot}, \\textbf{u}^1>, <X_{i,\\cdot}, \\textbf{u}^2>)$;\n"
   ]
  },
  {
   "cell_type": "code",
   "execution_count": 10,
   "metadata": {},
   "outputs": [],
   "source": [
    "means = np.zeros(p)\n",
    "stds = np.zeros(p)\n",
    "for i in range(p):\n",
    "    means[i] = TennisChiffre[colms[i+1]].mean()\n",
    "    stds[i] = TennisChiffre[colms[i+1]].std()"
   ]
  },
  {
   "cell_type": "code",
   "execution_count": 11,
   "metadata": {},
   "outputs": [
    {
     "data": {
      "text/plain": [
       "55.38425066996496"
      ]
     },
     "execution_count": 11,
     "metadata": {},
     "output_type": "execute_result"
    }
   ],
   "source": [
    "TennisChiffre[colms[1]].var()"
   ]
  },
  {
   "cell_type": "code",
   "execution_count": 12,
   "metadata": {},
   "outputs": [
    {
     "data": {
      "text/plain": [
       "(99, 6)"
      ]
     },
     "execution_count": 12,
     "metadata": {},
     "output_type": "execute_result"
    }
   ],
   "source": [
    "X = np.zeros((n,p))\n",
    "for i in range(n):\n",
    "    for j in range(p):\n",
    "        X[i][j] = (TennisChiffre[colms[j+1]][i] - means[j])/stds[j]\n",
    "X.shape"
   ]
  },
  {
   "cell_type": "code",
   "execution_count": 13,
   "metadata": {},
   "outputs": [],
   "source": [
    "correlation_matrix = np.dot(X.T, X/n)"
   ]
  },
  {
   "cell_type": "code",
   "execution_count": 14,
   "metadata": {},
   "outputs": [
    {
     "data": {
      "image/png": "[encoded data removed]",
      "text/plain": [
       "<Figure size 288x288 with 2 Axes>"
      ]
     },
     "metadata": {
      "needs_background": "light"
     },
     "output_type": "display_data"
    }
   ],
   "source": [
    "plt.matshow(correlation_matrix)\n",
    "plt.colorbar()\n",
    "plt.show()"
   ]
  },
  {
   "cell_type": "code",
   "execution_count": 15,
   "metadata": {},
   "outputs": [
    {
     "data": {
      "text/plain": [
       "array([[ 0.98989899, -0.76980182,  0.54242897, -0.65433936,  0.37604732,\n",
       "        -0.52647626],\n",
       "       [-0.76980182,  0.98989899, -0.4417595 ,  0.7334465 , -0.32199365,\n",
       "         0.6436888 ],\n",
       "       [ 0.54242897, -0.4417595 ,  0.98989899, -0.42728897,  0.34520865,\n",
       "        -0.57138733],\n",
       "       [-0.65433936,  0.7334465 , -0.42728897,  0.98989899, -0.23600025,\n",
       "         0.67828441],\n",
       "       [ 0.37604732, -0.32199365,  0.34520865, -0.23600025,  0.98989899,\n",
       "        -0.32577666],\n",
       "       [-0.52647626,  0.6436888 , -0.57138733,  0.67828441, -0.32577666,\n",
       "         0.98989899]])"
      ]
     },
     "execution_count": 15,
     "metadata": {},
     "output_type": "execute_result"
    }
   ],
   "source": [
    "correlation_matrix"
   ]
  },
  {
   "cell_type": "code",
   "execution_count": 16,
   "metadata": {},
   "outputs": [
    {
     "data": {
      "text/plain": [
       "Index(['Unnamed: 0', 'Moyenne 1 er service', 'Pourcent 1 er service',\n",
       "       'Balles break sauvees', 'Balles break gagnees',\n",
       "       'Pts gagnes 1 er service', 'Pts gagnes au retour'],\n",
       "      dtype='object')"
      ]
     },
     "execution_count": 16,
     "metadata": {},
     "output_type": "execute_result"
    }
   ],
   "source": [
    "colms"
   ]
  },
  {
   "cell_type": "markdown",
   "metadata": {},
   "source": [
    "As show above, the most correlated variables are:\n",
    "* Balles break sauvees\n",
    "* Balles break gagnees"
   ]
  },
  {
   "cell_type": "code",
   "execution_count": 17,
   "metadata": {},
   "outputs": [],
   "source": [
    "from numpy import linalg as LA"
   ]
  },
  {
   "cell_type": "code",
   "execution_count": 18,
   "metadata": {},
   "outputs": [
    {
     "data": {
      "text/plain": [
       "array([3.59755317, 0.85246097, 0.61342499, 0.4653397 , 0.16786573,\n",
       "       0.24274938])"
      ]
     },
     "execution_count": 18,
     "metadata": {},
     "output_type": "execute_result"
    }
   ],
   "source": [
    "lambdas, us = LA.eig(correlation_matrix)\n",
    "lambdas"
   ]
  },
  {
   "cell_type": "code",
   "execution_count": 19,
   "metadata": {},
   "outputs": [
    {
     "name": "stdout",
     "output_type": "stream",
     "text": [
      "[[-0.44849314  0.05211969 -0.2246811   0.60092374 -0.61588106 -0.07236729]\n",
      " [ 0.4584489  -0.22804094  0.32004167 -0.12296789 -0.64327559  0.45439044]\n",
      " [-0.3726878  -0.25509062  0.77730435  0.31836496  0.25887531  0.1531596 ]\n",
      " [ 0.4390099  -0.35414975  0.16321861  0.25606334 -0.069506   -0.76472768]\n",
      " [-0.26440069 -0.86383301 -0.36338146 -0.19952148  0.04560679  0.09974927]\n",
      " [ 0.43260247 -0.09262896 -0.29017803  0.64578329  0.36463618  0.41240282]]\n"
     ]
    }
   ],
   "source": [
    "print(us)"
   ]
  },
  {
   "cell_type": "code",
   "execution_count": 20,
   "metadata": {},
   "outputs": [
    {
     "data": {
      "text/plain": [
       "(array([-0.44849314,  0.4584489 , -0.3726878 ,  0.4390099 , -0.26440069,\n",
       "         0.43260247]),\n",
       " array([ 0.05211969, -0.22804094, -0.25509062, -0.35414975, -0.86383301,\n",
       "        -0.09262896]))"
      ]
     },
     "execution_count": 20,
     "metadata": {},
     "output_type": "execute_result"
    }
   ],
   "source": [
    "u1 = us[:,0]\n",
    "u2 = us[:,1]\n",
    "u1, u2\n"
   ]
  },
  {
   "cell_type": "code",
   "execution_count": 21,
   "metadata": {},
   "outputs": [],
   "source": [
    "a = []\n",
    "b = []\n",
    "for i in range(n):\n",
    "    a.append( np.dot(TennisChiffre.iloc[i][1:].values.T, u1) )\n",
    "    b.append( np.dot(TennisChiffre.iloc[i][1:].values.T, u2) )"
   ]
  },
  {
   "cell_type": "code",
   "execution_count": 22,
   "metadata": {},
   "outputs": [
    {
     "data": {
      "image/png": "[encoded data removed]",
      "text/plain": [
       "<Figure size 432x288 with 1 Axes>"
      ]
     },
     "metadata": {
      "needs_background": "light"
     },
     "output_type": "display_data"
    }
   ],
   "source": [
    "plt.scatter(a, b, alpha=0.5)\n",
    "plt.title('Scatter of a and b')\n",
    "plt.xlabel('a')\n",
    "plt.ylabel('b')\n",
    "plt.show()"
   ]
  },
  {
   "cell_type": "markdown",
   "metadata": {},
   "source": [
    "## Correlation between p statistiques\n",
    "\n",
    "We could further impose:\n",
    "$$r_{i,1} = u_i^1 \\sqrt{\\lambda_1}, \\quad r_{i,2} = u_i^2 \\sqrt{\\lambda_2}$$\n",
    "\n",
    "With $\\textbf{u}_i, \\textbf{u}_j$ normalized vectors, the $p$ points $(r_{i,1}, r_{i,2})$ find themself inside an unit circle. And the angle between each two points shows whether they are positively or negatively correlated. "
   ]
  },
  {
   "cell_type": "code",
   "execution_count": 23,
   "metadata": {},
   "outputs": [],
   "source": [
    "r1 = np.zeros(p)\n",
    "r2 = np.zeros(p)\n",
    "lmd1 = lambdas[0]\n",
    "lmd2 = lambdas[1]\n",
    "for i in range(p):\n",
    "    r1[i] = u1[i]*np.sqrt(lmd1)\n",
    "    r2[i] = u2[i]*np.sqrt(lmd2)"
   ]
  },
  {
   "cell_type": "code",
   "execution_count": 24,
   "metadata": {},
   "outputs": [
    {
     "data": {
      "image/png": "[encoded data removed]",
      "text/plain": [
       "<Figure size 432x432 with 1 Axes>"
      ]
     },
     "metadata": {
      "needs_background": "light"
     },
     "output_type": "display_data"
    }
   ],
   "source": [
    "\"\"\"\n",
    "plt.scatter(r1, r2, alpha=0.5)\n",
    "plt.title('Scatter of a and b')\n",
    "plt.xlabel('a')\n",
    "plt.ylabel('b')\n",
    "for i in range(p):\n",
    "    plt.annotate(str(i), (r1[i], r2[i]))\n",
    "npoints = np.arange\n",
    "\"\"\"\n",
    "\n",
    "theta = np.linspace(0, 2*np.pi, 100)\n",
    "\n",
    "r = np.sqrt(1.0)\n",
    "\n",
    "x1 = r*np.cos(theta)\n",
    "x2 = r*np.sin(theta)\n",
    "\n",
    "fig, ax = plt.subplots(figsize=(6, 6))\n",
    "\n",
    "ax.plot(x1, x2)\n",
    "ax.set_aspect(1)\n",
    "\n",
    "plt.xlim(-1.25,1.25)\n",
    "plt.ylim(-1.25,1.25)\n",
    "\n",
    "plt.grid(linestyle='--')\n",
    "\n",
    "for i in range(p):\n",
    "    plt.plot(r1[i], r2[i], '.', label = str(i+1) )\n",
    "plt.legend()\n",
    "\n",
    "plt.show()"
   ]
  },
  {
   "cell_type": "markdown",
   "metadata": {},
   "source": [
    "* We can set $k = 3$ "
   ]
  },
  {
   "cell_type": "code",
   "execution_count": 36,
   "metadata": {},
   "outputs": [
    {
     "name": "stdout",
     "output_type": "stream",
     "text": [
      "[1 0 0 1 2 0 0 0 0 2 2 2 1 0 1 0 1 2 0 1 2 1 2 0 0 2 1 2 0 2 1 2 1 1 0 2 0\n",
      " 0 0 0 2 0 1 1 2 0 1 2 1 1 2 2 2 2 0 1 0 1 1 2 1 2 2 0 0 1 1 0 2 1 2 1 0 0\n",
      " 1 2 2 1 2 0 1 0 1 2 1 1 2 2 2 1 2 1 2 0 2 2 1 2 0]\n"
     ]
    }
   ],
   "source": [
    "# initialize\n",
    "k = 3\n",
    "centers = {}\n",
    "group = np.array([np.random.randint(0,n)%k for i in range(n)])\n",
    "print(group)\n",
    "for i in range(k):\n",
    "    tmp = np.random.rand()*n\n",
    "    centers[i] = [a[i], b[i]]"
   ]
  },
  {
   "cell_type": "markdown",
   "metadata": {},
   "source": [
    "## Clustering by k-means"
   ]
  },
  {
   "cell_type": "markdown",
   "metadata": {},
   "source": [
    "We see from above plot that in $\\mathbb{R}^2$ the distribution is not homogeneous. Thus we want to do a clustering by k-means. The algorithm is as below:\n",
    "- Choose parameter k, means k cluster we want to have;\n",
    "- randomly choose k centers, for instance, randomly take k points among n;\n",
    "- Until stablization:\n",
    "    - for each $1\\leq i\\leq n$:\n",
    "        Add i to the cluster with the closest center to him.\n",
    "        \n",
    "Here we choose $k=3$."
   ]
  },
  {
   "cell_type": "code",
   "execution_count": 37,
   "metadata": {},
   "outputs": [
    {
     "name": "stdout",
     "output_type": "stream",
     "text": [
      "[1 0 0 1 2 0 0 0 0 2 2 2 1 0 1 0 1 2 0 1 2 1 2 0 0 2 1 2 0 2 1 2 1 1 0 2 0\n",
      " 0 0 0 2 0 1 1 2 0 1 2 1 1 2 2 2 2 0 1 0 1 1 2 1 2 2 0 0 1 1 0 2 1 2 1 0 0\n",
      " 1 2 2 1 2 0 1 0 1 2 1 1 2 2 2 1 2 1 2 0 2 2 1 2 0]\n",
      "[1 0 0 1 2 0 0 0 0 2 2 2 1 0 1 0 1 2 0 1 2 1 2 0 0 2 1 2 0 2 1 2 1 1 0 2 0\n",
      " 0 0 0 2 0 1 1 2 0 1 2 1 1 2 2 2 2 0 1 0 1 1 2 1 2 2 0 0 1 1 0 2 1 2 1 0 0\n",
      " 1 2 2 1 2 0 1 0 1 2 1 1 2 2 2 1 2 1 2 0 2 2 1 2 0]\n"
     ]
    }
   ],
   "source": [
    "def Dist(x1, y1, x2, y2):\n",
    "    return np.sqrt((x1-x2)**2 + (y1-y2)**2)\n",
    "\n",
    "def update(k):\n",
    "    groups = []\n",
    "    for i in range(k):\n",
    "        groups.append([])\n",
    "    for i in range(n):\n",
    "        groups[int(group[i])].append([a[i], b[i]])\n",
    "    for i in range(k):\n",
    "        tmp = np.array(groups[i])\n",
    "        if len(tmp) != 0:\n",
    "            x = tmp[:,0].mean()\n",
    "            y = tmp[:,1].mean()\n",
    "            centers[i] = [x,y]\n",
    "\n",
    "\n",
    "#record the group of point i\n",
    "print(group)\n",
    "group_tmp = np.copy(group)\n",
    "print(group_tmp)\n",
    "for i in range(n):\n",
    "    dist = float('inf')\n",
    "    for kk in range(k):\n",
    "        t_d = Dist( a[i], b[i], centers[kk][0], centers[kk][1] )\n",
    "        if dist > t_d :\n",
    "            dist = t_d\n",
    "            group[i] = kk\n",
    "            update(k)\n",
    "            #print('update')\n",
    "#print(group_tmp)\n",
    "#print(group)"
   ]
  },
  {
   "cell_type": "code",
   "execution_count": 38,
   "metadata": {},
   "outputs": [
    {
     "name": "stdout",
     "output_type": "stream",
     "text": [
      "[2 0 0 0 1 2 2 2 0 0 1 1 1 2 1 1 2 2 0 2 1 2 2 2 0 0 0 0 0 0 0 0 0 0 0 0 0\n",
      " 0 0 0 0 0 0 0 1 1 1 1 1 1 2 2 2 2 2 2 2 2 2 2 2 2 2 2 2 2 2 2 2 2 2 2 2 2\n",
      " 2 2 2 2 2 2 2 2 2 2 2 2 2 2 2 2 2 2 2 2 2 2 2 2 2]\n"
     ]
    }
   ],
   "source": [
    "while np.sum(abs(group - group_tmp)) != 0:\n",
    "    #record the group of point i\n",
    "    group_tmp = np.copy(group)\n",
    "    for i in range(n):\n",
    "        dist = float('inf')\n",
    "        for kk in range(k):\n",
    "            t_d = Dist( a[i], b[i], centers[kk][0], centers[kk][1] )\n",
    "            if dist > t_d:\n",
    "                dist = t_d\n",
    "                group[i] = kk\n",
    "            update(k)\n",
    "print(group)"
   ]
  },
  {
   "cell_type": "code",
   "execution_count": 39,
   "metadata": {},
   "outputs": [
    {
     "data": {
      "image/png": "[encoded data removed]",
      "text/plain": [
       "<Figure size 432x288 with 1 Axes>"
      ]
     },
     "metadata": {
      "needs_background": "light"
     },
     "output_type": "display_data"
    }
   ],
   "source": [
    "for i in range(n):\n",
    "    if group[i] == 0:\n",
    "        plt.scatter(a[i], b[i], color = 'r', alpha=0.5)\n",
    "    if group[i] == 1:\n",
    "        plt.scatter(a[i], b[i], color = 'b', alpha=0.5)\n",
    "    if group[i] == 2:\n",
    "        plt.scatter(a[i], b[i], color = 'g', alpha=0.5)\n",
    "    if group[i] == 3:\n",
    "        plt.scatter(a[i], b[i], color = 'y', alpha=0.5)\n",
    "    #if group[i] == 4:\n",
    "     #   plt.scatter(a[i], b[i], color = 'purple', alpha=0.5)\n",
    "plt.title('Scatter of a and b')\n",
    "plt.xlabel('a')\n",
    "plt.ylabel('b')\n",
    "plt.show()"
   ]
  },
  {
   "cell_type": "markdown",
   "metadata": {},
   "source": [
    "* The result depends on the initial values\n",
    "* This function has many local minimum, so in practice, we will run the program several times to gard the best result"
   ]
  },
  {
   "cell_type": "code",
   "execution_count": 29,
   "metadata": {},
   "outputs": [
    {
     "data": {
      "text/plain": [
       "3.0"
      ]
     },
     "execution_count": 29,
     "metadata": {},
     "output_type": "execute_result"
    }
   ],
   "source": [
    "test = np.array([[1,2],[3,4],[5,6]])\n",
    "test[:,0].mean()"
   ]
  },
  {
   "cell_type": "code",
   "execution_count": 30,
   "metadata": {},
   "outputs": [
    {
     "data": {
      "text/plain": [
       "array([179, 81, 84, 26, 78, 63], dtype=object)"
      ]
     },
     "execution_count": 30,
     "metadata": {},
     "output_type": "execute_result"
    }
   ],
   "source": [
    "TennisChiffre.iloc[0][1:].values.T"
   ]
  },
  {
   "cell_type": "code",
   "execution_count": 31,
   "metadata": {},
   "outputs": [
    {
     "data": {
      "text/plain": [
       "-56.406727429969564"
      ]
     },
     "execution_count": 31,
     "metadata": {},
     "output_type": "execute_result"
    }
   ],
   "source": [
    "np.dot(TennisChiffre.iloc[0][1:].values.T, u1)"
   ]
  },
  {
   "cell_type": "code",
   "execution_count": null,
   "metadata": {},
   "outputs": [],
   "source": []
  }
 ],
 "metadata": {
  "kernelspec": {
   "display_name": "Python 3",
   "language": "python",
   "name": "python3"
  },
  "language_info": {
   "codemirror_mode": {
    "name": "ipython",
    "version": 3
   },
   "file_extension": ".py",
   "mimetype": "text/x-python",
   "name": "python",
   "nbconvert_exporter": "python",
   "pygments_lexer": "ipython3",
   "version": "3.7.0"
  },
  "toc": {
   "base_numbering": 1,
   "nav_menu": {},
   "number_sections": true,
   "sideBar": true,
   "skip_h1_title": false,
   "title_cell": "Table of Contents",
   "title_sidebar": "Contents",
   "toc_cell": false,
   "toc_position": {},
   "toc_section_display": true,
   "toc_window_display": false
  }
 },
 "nbformat": 4,
 "nbformat_minor": 2
}
